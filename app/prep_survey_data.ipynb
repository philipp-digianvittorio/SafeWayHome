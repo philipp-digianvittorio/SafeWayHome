{
 "cells": [
  {
   "cell_type": "markdown",
   "id": "3395da48-7441-4c40-ac15-1ece0236a400",
   "metadata": {},
   "source": [
    "# Survey Auswertung"
   ]
  },
  {
   "cell_type": "code",
   "execution_count": 154,
   "id": "d44c1de9-5d05-4570-bcf4-ed800cff9595",
   "metadata": {},
   "outputs": [],
   "source": [
    "import pandas as pd\n",
    "import numpy as np\n",
    "from matplotlib import pyplot as plt\n",
    "import matplotlib.colors as mcolors\n"
   ]
  },
  {
   "cell_type": "code",
   "execution_count": 7,
   "id": "65e9156a-6be4-4253-8243-ab24bef2ea12",
   "metadata": {},
   "outputs": [],
   "source": [
    "# define path \n",
    "path = \"C:\\\\Users\\\\m-bau\\\\Dokumente\\\\Studium\\\\Master\\\\3. Semester\\\\Data Science Project\\\\webscraping\\\\\""
   ]
  },
  {
   "cell_type": "code",
   "execution_count": 176,
   "id": "652c4c37-3a94-4a19-a07c-2f42a179f179",
   "metadata": {},
   "outputs": [],
   "source": [
    "efs = pd.read_csv(path + \"efs_list.csv\")\n",
    "efs = efs.iloc[:,[0,2]]"
   ]
  },
  {
   "cell_type": "code",
   "execution_count": 177,
   "id": "74e73f86-5ca8-4d67-ba7c-fbcd3bf18b1e",
   "metadata": {},
   "outputs": [
    {
     "data": {
      "text/html": [
       "<div>\n",
       "<style scoped>\n",
       "    .dataframe tbody tr th:only-of-type {\n",
       "        vertical-align: middle;\n",
       "    }\n",
       "\n",
       "    .dataframe tbody tr th {\n",
       "        vertical-align: top;\n",
       "    }\n",
       "\n",
       "    .dataframe thead th {\n",
       "        text-align: right;\n",
       "    }\n",
       "</style>\n",
       "<table border=\"1\" class=\"dataframe\">\n",
       "  <thead>\n",
       "    <tr style=\"text-align: right;\">\n",
       "      <th></th>\n",
       "      <th>List-ID</th>\n",
       "      <th>Name</th>\n",
       "    </tr>\n",
       "  </thead>\n",
       "  <tbody>\n",
       "    <tr>\n",
       "      <th>0</th>\n",
       "      <td>1</td>\n",
       "      <td>Germaniaplatz_60385.jpeg</td>\n",
       "    </tr>\n",
       "    <tr>\n",
       "      <th>1</th>\n",
       "      <td>2</td>\n",
       "      <td>Usinger_Strasse_60389.jpeg</td>\n",
       "    </tr>\n",
       "    <tr>\n",
       "      <th>2</th>\n",
       "      <td>3</td>\n",
       "      <td>Langenselbolder_Strasse_60386.jpeg</td>\n",
       "    </tr>\n",
       "    <tr>\n",
       "      <th>3</th>\n",
       "      <td>4</td>\n",
       "      <td>Vogelstrasse_60528.jpeg</td>\n",
       "    </tr>\n",
       "    <tr>\n",
       "      <th>4</th>\n",
       "      <td>5</td>\n",
       "      <td>Bleichstrasse_60313.jpeg</td>\n",
       "    </tr>\n",
       "  </tbody>\n",
       "</table>\n",
       "</div>"
      ],
      "text/plain": [
       "   List-ID                                Name\n",
       "0        1            Germaniaplatz_60385.jpeg\n",
       "1        2          Usinger_Strasse_60389.jpeg\n",
       "2        3  Langenselbolder_Strasse_60386.jpeg\n",
       "3        4             Vogelstrasse_60528.jpeg\n",
       "4        5            Bleichstrasse_60313.jpeg"
      ]
     },
     "execution_count": 177,
     "metadata": {},
     "output_type": "execute_result"
    }
   ],
   "source": [
    "efs.head()"
   ]
  },
  {
   "cell_type": "markdown",
   "id": "e51c4284-aeca-4880-b156-fc2d7e47f2b6",
   "metadata": {},
   "source": [
    "The raw file from unipark export.csv uses \" \";\" \" as separator which seems complicated to import, therefore it is first converted into a .txt file an then imported."
   ]
  },
  {
   "cell_type": "code",
   "execution_count": 54,
   "id": "303015b9-e7fa-4748-9b92-b30a289db559",
   "metadata": {},
   "outputs": [],
   "source": [
    "raw = pd.read_csv(path + \"export.txt\", delimiter = \"\\t\")"
   ]
  },
  {
   "cell_type": "code",
   "execution_count": 55,
   "id": "7f86103d-983b-45b0-8e19-53bf83f0cddb",
   "metadata": {},
   "outputs": [
    {
     "data": {
      "text/html": [
       "<div>\n",
       "<style scoped>\n",
       "    .dataframe tbody tr th:only-of-type {\n",
       "        vertical-align: middle;\n",
       "    }\n",
       "\n",
       "    .dataframe tbody tr th {\n",
       "        vertical-align: top;\n",
       "    }\n",
       "\n",
       "    .dataframe thead th {\n",
       "        text-align: right;\n",
       "    }\n",
       "</style>\n",
       "<table border=\"1\" class=\"dataframe\">\n",
       "  <thead>\n",
       "    <tr style=\"text-align: right;\">\n",
       "      <th></th>\n",
       "      <th>lfdn</th>\n",
       "      <th>external_lfdn</th>\n",
       "      <th>tester</th>\n",
       "      <th>dispcode</th>\n",
       "      <th>lastpage</th>\n",
       "      <th>quality</th>\n",
       "      <th>duration</th>\n",
       "      <th>c_0001</th>\n",
       "      <th>v_51</th>\n",
       "      <th>v_56</th>\n",
       "      <th>...</th>\n",
       "      <th>cleaned</th>\n",
       "      <th>ats</th>\n",
       "      <th>datetime</th>\n",
       "      <th>date_of_last_access</th>\n",
       "      <th>date_of_first_mail</th>\n",
       "      <th>rts6491601</th>\n",
       "      <th>rts6491602</th>\n",
       "      <th>rts6491860</th>\n",
       "      <th>rts6491866</th>\n",
       "      <th>rts6493351</th>\n",
       "    </tr>\n",
       "  </thead>\n",
       "  <tbody>\n",
       "    <tr>\n",
       "      <th>0</th>\n",
       "      <td>7</td>\n",
       "      <td>0</td>\n",
       "      <td>0</td>\n",
       "      <td>32</td>\n",
       "      <td>6482880</td>\n",
       "      <td>-77</td>\n",
       "      <td>-1</td>\n",
       "      <td>-66</td>\n",
       "      <td>1</td>\n",
       "      <td>2</td>\n",
       "      <td>...</td>\n",
       "      <td>0</td>\n",
       "      <td>1669738415</td>\n",
       "      <td>29.11.2022 16:13</td>\n",
       "      <td>30.11.2022 16:12</td>\n",
       "      <td>0000-00-00 00:00:00</td>\n",
       "      <td>86359</td>\n",
       "      <td>86060</td>\n",
       "      <td>86065</td>\n",
       "      <td>86068</td>\n",
       "      <td>86071</td>\n",
       "    </tr>\n",
       "    <tr>\n",
       "      <th>1</th>\n",
       "      <td>8</td>\n",
       "      <td>0</td>\n",
       "      <td>0</td>\n",
       "      <td>31</td>\n",
       "      <td>6482880</td>\n",
       "      <td>-77</td>\n",
       "      <td>456</td>\n",
       "      <td>-66</td>\n",
       "      <td>1</td>\n",
       "      <td>2</td>\n",
       "      <td>...</td>\n",
       "      <td>0</td>\n",
       "      <td>1669804734</td>\n",
       "      <td>30.11.2022 10:38</td>\n",
       "      <td>30.11.2022 10:46</td>\n",
       "      <td>0000-00-00 00:00:00</td>\n",
       "      <td>456</td>\n",
       "      <td>50</td>\n",
       "      <td>61</td>\n",
       "      <td>67</td>\n",
       "      <td>72</td>\n",
       "    </tr>\n",
       "    <tr>\n",
       "      <th>2</th>\n",
       "      <td>10</td>\n",
       "      <td>0</td>\n",
       "      <td>0</td>\n",
       "      <td>31</td>\n",
       "      <td>6482880</td>\n",
       "      <td>-77</td>\n",
       "      <td>185</td>\n",
       "      <td>-66</td>\n",
       "      <td>1</td>\n",
       "      <td>2</td>\n",
       "      <td>...</td>\n",
       "      <td>0</td>\n",
       "      <td>1669804990</td>\n",
       "      <td>30.11.2022 10:43</td>\n",
       "      <td>30.11.2022 10:46</td>\n",
       "      <td>0000-00-00 00:00:00</td>\n",
       "      <td>185</td>\n",
       "      <td>27</td>\n",
       "      <td>30</td>\n",
       "      <td>33</td>\n",
       "      <td>35</td>\n",
       "    </tr>\n",
       "    <tr>\n",
       "      <th>3</th>\n",
       "      <td>11</td>\n",
       "      <td>0</td>\n",
       "      <td>0</td>\n",
       "      <td>31</td>\n",
       "      <td>6482880</td>\n",
       "      <td>-77</td>\n",
       "      <td>175</td>\n",
       "      <td>-66</td>\n",
       "      <td>2</td>\n",
       "      <td>2</td>\n",
       "      <td>...</td>\n",
       "      <td>0</td>\n",
       "      <td>1669805068</td>\n",
       "      <td>30.11.2022 10:44</td>\n",
       "      <td>30.11.2022 10:47</td>\n",
       "      <td>0000-00-00 00:00:00</td>\n",
       "      <td>175</td>\n",
       "      <td>6</td>\n",
       "      <td>10</td>\n",
       "      <td>13</td>\n",
       "      <td>16</td>\n",
       "    </tr>\n",
       "    <tr>\n",
       "      <th>4</th>\n",
       "      <td>12</td>\n",
       "      <td>0</td>\n",
       "      <td>0</td>\n",
       "      <td>31</td>\n",
       "      <td>6482880</td>\n",
       "      <td>-77</td>\n",
       "      <td>250</td>\n",
       "      <td>-66</td>\n",
       "      <td>2</td>\n",
       "      <td>2</td>\n",
       "      <td>...</td>\n",
       "      <td>0</td>\n",
       "      <td>1669805386</td>\n",
       "      <td>30.11.2022 10:49</td>\n",
       "      <td>30.11.2022 10:53</td>\n",
       "      <td>0000-00-00 00:00:00</td>\n",
       "      <td>250</td>\n",
       "      <td>37</td>\n",
       "      <td>44</td>\n",
       "      <td>47</td>\n",
       "      <td>51</td>\n",
       "    </tr>\n",
       "  </tbody>\n",
       "</table>\n",
       "<p>5 rows × 1012 columns</p>\n",
       "</div>"
      ],
      "text/plain": [
       "   lfdn  external_lfdn  tester  dispcode  lastpage  quality  duration  c_0001  \\\n",
       "0     7              0       0        32   6482880      -77        -1     -66   \n",
       "1     8              0       0        31   6482880      -77       456     -66   \n",
       "2    10              0       0        31   6482880      -77       185     -66   \n",
       "3    11              0       0        31   6482880      -77       175     -66   \n",
       "4    12              0       0        31   6482880      -77       250     -66   \n",
       "\n",
       "   v_51  v_56  ...  cleaned         ats          datetime  \\\n",
       "0     1     2  ...        0  1669738415  29.11.2022 16:13   \n",
       "1     1     2  ...        0  1669804734  30.11.2022 10:38   \n",
       "2     1     2  ...        0  1669804990  30.11.2022 10:43   \n",
       "3     2     2  ...        0  1669805068  30.11.2022 10:44   \n",
       "4     2     2  ...        0  1669805386  30.11.2022 10:49   \n",
       "\n",
       "   date_of_last_access   date_of_first_mail  rts6491601  rts6491602  \\\n",
       "0     30.11.2022 16:12  0000-00-00 00:00:00       86359       86060   \n",
       "1     30.11.2022 10:46  0000-00-00 00:00:00         456          50   \n",
       "2     30.11.2022 10:46  0000-00-00 00:00:00         185          27   \n",
       "3     30.11.2022 10:47  0000-00-00 00:00:00         175           6   \n",
       "4     30.11.2022 10:53  0000-00-00 00:00:00         250          37   \n",
       "\n",
       "   rts6491860  rts6491866  rts6493351  \n",
       "0       86065       86068       86071  \n",
       "1          61          67          72  \n",
       "2          30          33          35  \n",
       "3          10          13          16  \n",
       "4          44          47          51  \n",
       "\n",
       "[5 rows x 1012 columns]"
      ]
     },
     "execution_count": 55,
     "metadata": {},
     "output_type": "execute_result"
    }
   ],
   "source": [
    "raw.head()"
   ]
  },
  {
   "cell_type": "code",
   "execution_count": 39,
   "id": "7c40a947-183e-4ca4-b2bd-79522273f7d0",
   "metadata": {},
   "outputs": [],
   "source": [
    "# extract headers\n",
    "headers = [*pd.read_csv(path + \"export.txt\", nrows=1, delimiter = \"\\t\")]"
   ]
  },
  {
   "cell_type": "markdown",
   "id": "6e085ee0-28f8-473b-85bd-055782dc92c5",
   "metadata": {},
   "source": [
    "The street ratings "
   ]
  },
  {
   "cell_type": "code",
   "execution_count": 168,
   "id": "7cd9de27-e706-496d-a109-017b5c7d732c",
   "metadata": {},
   "outputs": [],
   "source": [
    "answers = raw.iloc[:,8:988]\n",
    "answers = answers.replace(-77, np.nan)\n",
    "answers = answers.rename(columns = {'v_51': 'gender', 'v_56': 'Frankfurt','v_67': 'Germany'})"
   ]
  },
  {
   "cell_type": "code",
   "execution_count": 164,
   "id": "e6363157-d268-4a85-ad31-991b96230a1f",
   "metadata": {},
   "outputs": [
    {
     "data": {
      "text/html": [
       "<div>\n",
       "<style scoped>\n",
       "    .dataframe tbody tr th:only-of-type {\n",
       "        vertical-align: middle;\n",
       "    }\n",
       "\n",
       "    .dataframe tbody tr th {\n",
       "        vertical-align: top;\n",
       "    }\n",
       "\n",
       "    .dataframe thead th {\n",
       "        text-align: right;\n",
       "    }\n",
       "</style>\n",
       "<table border=\"1\" class=\"dataframe\">\n",
       "  <thead>\n",
       "    <tr style=\"text-align: right;\">\n",
       "      <th></th>\n",
       "      <th>gender</th>\n",
       "      <th>Frankfurt</th>\n",
       "      <th>Germnay</th>\n",
       "      <th>v_66_1</th>\n",
       "      <th>v_66_2</th>\n",
       "      <th>v_66_3</th>\n",
       "      <th>v_66_4</th>\n",
       "      <th>v_66_5</th>\n",
       "      <th>v_66_6</th>\n",
       "      <th>v_66_7</th>\n",
       "      <th>...</th>\n",
       "      <th>v_66_968</th>\n",
       "      <th>v_66_969</th>\n",
       "      <th>v_66_970</th>\n",
       "      <th>v_66_971</th>\n",
       "      <th>v_66_972</th>\n",
       "      <th>v_66_973</th>\n",
       "      <th>v_66_974</th>\n",
       "      <th>v_66_975</th>\n",
       "      <th>v_66_976</th>\n",
       "      <th>v_66_977</th>\n",
       "    </tr>\n",
       "  </thead>\n",
       "  <tbody>\n",
       "    <tr>\n",
       "      <th>0</th>\n",
       "      <td>1</td>\n",
       "      <td>2</td>\n",
       "      <td>1</td>\n",
       "      <td>NaN</td>\n",
       "      <td>NaN</td>\n",
       "      <td>NaN</td>\n",
       "      <td>NaN</td>\n",
       "      <td>NaN</td>\n",
       "      <td>NaN</td>\n",
       "      <td>NaN</td>\n",
       "      <td>...</td>\n",
       "      <td>NaN</td>\n",
       "      <td>NaN</td>\n",
       "      <td>NaN</td>\n",
       "      <td>NaN</td>\n",
       "      <td>NaN</td>\n",
       "      <td>NaN</td>\n",
       "      <td>NaN</td>\n",
       "      <td>NaN</td>\n",
       "      <td>NaN</td>\n",
       "      <td>NaN</td>\n",
       "    </tr>\n",
       "    <tr>\n",
       "      <th>1</th>\n",
       "      <td>1</td>\n",
       "      <td>2</td>\n",
       "      <td>1</td>\n",
       "      <td>NaN</td>\n",
       "      <td>NaN</td>\n",
       "      <td>NaN</td>\n",
       "      <td>NaN</td>\n",
       "      <td>NaN</td>\n",
       "      <td>NaN</td>\n",
       "      <td>NaN</td>\n",
       "      <td>...</td>\n",
       "      <td>NaN</td>\n",
       "      <td>NaN</td>\n",
       "      <td>NaN</td>\n",
       "      <td>NaN</td>\n",
       "      <td>NaN</td>\n",
       "      <td>NaN</td>\n",
       "      <td>1.0</td>\n",
       "      <td>NaN</td>\n",
       "      <td>NaN</td>\n",
       "      <td>NaN</td>\n",
       "    </tr>\n",
       "    <tr>\n",
       "      <th>2</th>\n",
       "      <td>1</td>\n",
       "      <td>2</td>\n",
       "      <td>1</td>\n",
       "      <td>NaN</td>\n",
       "      <td>NaN</td>\n",
       "      <td>NaN</td>\n",
       "      <td>NaN</td>\n",
       "      <td>NaN</td>\n",
       "      <td>NaN</td>\n",
       "      <td>NaN</td>\n",
       "      <td>...</td>\n",
       "      <td>NaN</td>\n",
       "      <td>NaN</td>\n",
       "      <td>NaN</td>\n",
       "      <td>NaN</td>\n",
       "      <td>NaN</td>\n",
       "      <td>NaN</td>\n",
       "      <td>NaN</td>\n",
       "      <td>NaN</td>\n",
       "      <td>NaN</td>\n",
       "      <td>NaN</td>\n",
       "    </tr>\n",
       "    <tr>\n",
       "      <th>3</th>\n",
       "      <td>2</td>\n",
       "      <td>2</td>\n",
       "      <td>1</td>\n",
       "      <td>NaN</td>\n",
       "      <td>NaN</td>\n",
       "      <td>NaN</td>\n",
       "      <td>NaN</td>\n",
       "      <td>NaN</td>\n",
       "      <td>NaN</td>\n",
       "      <td>NaN</td>\n",
       "      <td>...</td>\n",
       "      <td>NaN</td>\n",
       "      <td>NaN</td>\n",
       "      <td>NaN</td>\n",
       "      <td>NaN</td>\n",
       "      <td>NaN</td>\n",
       "      <td>NaN</td>\n",
       "      <td>NaN</td>\n",
       "      <td>NaN</td>\n",
       "      <td>3.0</td>\n",
       "      <td>NaN</td>\n",
       "    </tr>\n",
       "    <tr>\n",
       "      <th>4</th>\n",
       "      <td>2</td>\n",
       "      <td>2</td>\n",
       "      <td>1</td>\n",
       "      <td>NaN</td>\n",
       "      <td>NaN</td>\n",
       "      <td>NaN</td>\n",
       "      <td>NaN</td>\n",
       "      <td>NaN</td>\n",
       "      <td>NaN</td>\n",
       "      <td>NaN</td>\n",
       "      <td>...</td>\n",
       "      <td>NaN</td>\n",
       "      <td>2.0</td>\n",
       "      <td>NaN</td>\n",
       "      <td>NaN</td>\n",
       "      <td>NaN</td>\n",
       "      <td>NaN</td>\n",
       "      <td>NaN</td>\n",
       "      <td>NaN</td>\n",
       "      <td>NaN</td>\n",
       "      <td>NaN</td>\n",
       "    </tr>\n",
       "  </tbody>\n",
       "</table>\n",
       "<p>5 rows × 980 columns</p>\n",
       "</div>"
      ],
      "text/plain": [
       "   gender  Frankfurt  Germnay  v_66_1  v_66_2  v_66_3  v_66_4  v_66_5  v_66_6  \\\n",
       "0       1          2        1     NaN     NaN     NaN     NaN     NaN     NaN   \n",
       "1       1          2        1     NaN     NaN     NaN     NaN     NaN     NaN   \n",
       "2       1          2        1     NaN     NaN     NaN     NaN     NaN     NaN   \n",
       "3       2          2        1     NaN     NaN     NaN     NaN     NaN     NaN   \n",
       "4       2          2        1     NaN     NaN     NaN     NaN     NaN     NaN   \n",
       "\n",
       "   v_66_7  ...  v_66_968  v_66_969  v_66_970  v_66_971  v_66_972  v_66_973  \\\n",
       "0     NaN  ...       NaN       NaN       NaN       NaN       NaN       NaN   \n",
       "1     NaN  ...       NaN       NaN       NaN       NaN       NaN       NaN   \n",
       "2     NaN  ...       NaN       NaN       NaN       NaN       NaN       NaN   \n",
       "3     NaN  ...       NaN       NaN       NaN       NaN       NaN       NaN   \n",
       "4     NaN  ...       NaN       2.0       NaN       NaN       NaN       NaN   \n",
       "\n",
       "   v_66_974  v_66_975  v_66_976  v_66_977  \n",
       "0       NaN       NaN       NaN       NaN  \n",
       "1       1.0       NaN       NaN       NaN  \n",
       "2       NaN       NaN       NaN       NaN  \n",
       "3       NaN       NaN       3.0       NaN  \n",
       "4       NaN       NaN       NaN       NaN  \n",
       "\n",
       "[5 rows x 980 columns]"
      ]
     },
     "execution_count": 164,
     "metadata": {},
     "output_type": "execute_result"
    }
   ],
   "source": [
    "answers.head()"
   ]
  },
  {
   "cell_type": "code",
   "execution_count": 73,
   "id": "e77c2587-38d9-473d-9e1b-ea121fc8794b",
   "metadata": {},
   "outputs": [
    {
     "data": {
      "text/plain": [
       "v_66_1    3.531915\n",
       "v_66_2    2.790698\n",
       "v_66_3    3.378378\n",
       "v_66_4    3.370370\n",
       "v_66_5    3.282609\n",
       "dtype: float64"
      ]
     },
     "execution_count": 73,
     "metadata": {},
     "output_type": "execute_result"
    }
   ],
   "source": [
    "ratings = answers.iloc[:,3:988].mean(axis=0)\n",
    "ratings.head()"
   ]
  },
  {
   "cell_type": "code",
   "execution_count": 178,
   "id": "70a9fa36-7796-4cbb-b1fd-306d7a7a8672",
   "metadata": {},
   "outputs": [],
   "source": [
    "ratings = pd.DataFrame(columns =['List-ID','image_score','n_ratings','Strassenname'])\n",
    "ratings['image_score'] = pd.DataFrame(answers.iloc[:,3:988].mean(axis=0))\n",
    "ratings['n_ratings'] = pd.DataFrame(answers.iloc[:,3:988].count(axis=0))\n",
    "\n",
    "ratings['n_ratings'] = pd.DataFrame(answers.iloc[:,3:988].count(axis=0))\n",
    "\n",
    "#ratings['efs_index'] = ratings.index \n",
    "ratings.reset_index()\n",
    "ratings['List-ID'] = range(1, 1 + len(ratings))"
   ]
  },
  {
   "cell_type": "markdown",
   "id": "4ec0d4b3-3269-466c-8f29-b73c94b831ec",
   "metadata": {},
   "source": [
    "### Compare ratings by gender, FFM and Germany"
   ]
  },
  {
   "cell_type": "code",
   "execution_count": null,
   "id": "a33d53ba-e8c5-4a30-a70c-3b6ad61b58a1",
   "metadata": {},
   "outputs": [],
   "source": [
    "share_w = "
   ]
  },
  {
   "cell_type": "code",
   "execution_count": 183,
   "id": "03c6b41e-046c-4153-874a-3f6a2f64ceb3",
   "metadata": {},
   "outputs": [
    {
     "data": {
      "text/plain": [
       "1    950\n",
       "2    252\n",
       "3     18\n",
       "4      6\n",
       "0      1\n",
       "Name: gender, dtype: int64"
      ]
     },
     "execution_count": 183,
     "metadata": {},
     "output_type": "execute_result"
    }
   ],
   "source": [
    "answers['gender'].value_counts()/len(answers)"
   ]
  },
  {
   "cell_type": "code",
   "execution_count": 184,
   "id": "7790f339-a04e-499a-9f25-1dd4673d3482",
   "metadata": {},
   "outputs": [
    {
     "data": {
      "text/plain": [
       "1    950\n",
       "2    252\n",
       "3     18\n",
       "4      6\n",
       "0      1\n",
       "Name: gender, dtype: int64"
      ]
     },
     "execution_count": 184,
     "metadata": {},
     "output_type": "execute_result"
    }
   ],
   "source": [
    "answers['gender'].value_counts()"
   ]
  },
  {
   "cell_type": "code",
   "execution_count": 150,
   "id": "fbbb6348-3c5c-4e9c-9557-6d428d7e61ac",
   "metadata": {},
   "outputs": [
    {
     "data": {
      "text/plain": [
       "2    0.965770\n",
       "1    0.033415\n",
       "0    0.000815\n",
       "Name: v_56, dtype: float64"
      ]
     },
     "execution_count": 150,
     "metadata": {},
     "output_type": "execute_result"
    }
   ],
   "source": [
    "answers['Frankfurt'].value_counts()/len(answers)"
   ]
  },
  {
   "cell_type": "code",
   "execution_count": 151,
   "id": "63654874-99c1-45ce-97ea-bac8f1e81eb4",
   "metadata": {},
   "outputs": [
    {
     "data": {
      "text/plain": [
       "1    0.901385\n",
       "2    0.097800\n",
       "0    0.000815\n",
       "Name: v_67, dtype: float64"
      ]
     },
     "execution_count": 151,
     "metadata": {},
     "output_type": "execute_result"
    }
   ],
   "source": [
    "answers['Germany'].value_counts()/len(answers)"
   ]
  },
  {
   "cell_type": "code",
   "execution_count": 174,
   "id": "51432dd4-3c65-4fd7-86ee-8e215d8a582d",
   "metadata": {},
   "outputs": [
    {
     "data": {
      "image/png": "[encoded data removed]",
      "text/plain": [
       "<Figure size 1000x500 with 3 Axes>"
      ]
     },
     "metadata": {},
     "output_type": "display_data"
    }
   ],
   "source": [
    "fig, (ax1, ax2, ax3) = plt.subplots(ncols=3, figsize=(10, 5))\n",
    "# Defining colors for the pie chart\n",
    "colors = ['pink', 'silver', 'tomato']\n",
    "\n",
    "answers.groupby('gender').size().plot(kind='pie', autopct='%.2f', textprops={'fontsize': 10},ax=ax1,colors=colors)\n",
    "answers.groupby('Frankfurt').size().plot(kind='pie', autopct='%.2f', textprops={'fontsize': 10}, ax=ax2,colors=colors)\n",
    "answers.groupby('Germany').size().plot(kind='pie', autopct='%.2f', textprops={'fontsize': 10}, ax=ax3, colors=colors)\n",
    "\n",
    "ax1.set_ylabel('Gender', size=22)\n",
    "ax2.set_ylabel('Frankfurt', size=22)\n",
    "ax3.set_ylabel('Germany', size=22)\n",
    "\n",
    "plt.show()"
   ]
  },
  {
   "cell_type": "code",
   "execution_count": 139,
   "id": "1571f2a0-17ad-44ae-a039-f4a179a62b7e",
   "metadata": {},
   "outputs": [],
   "source": [
    "ratings_gender = pd.DataFrame.transpose(answers.groupby('v_51').mean().iloc[:,2:])\n",
    "ratings_FFM = pd.DataFrame.transpose(answers.groupby('v_56').mean().iloc[:,2:])\n",
    "ratings_germany = pd.DataFrame.transpose(answers.groupby('v_67').mean().iloc[:,2:])\n",
    "# rename columns\n",
    "ratings_FFM.rename(columns = {'0': '??', '1': 'female','2': 'male', '3': 'divers','4': 'no_entry'})\n",
    "ratings_FFM.rename(columns = {'0': '??', '1': 'FFM','2': 'noFFM'})\n",
    "ratings_FFM.rename(columns = {'0': '??', '1': 'Germany','2': 'noGermany'})"
   ]
  },
  {
   "cell_type": "code",
   "execution_count": 141,
   "id": "2898796a-1e66-44d4-bab1-643a7c453bf6",
   "metadata": {},
   "outputs": [
    {
     "data": {
      "text/html": [
       "<div>\n",
       "<style scoped>\n",
       "    .dataframe tbody tr th:only-of-type {\n",
       "        vertical-align: middle;\n",
       "    }\n",
       "\n",
       "    .dataframe tbody tr th {\n",
       "        vertical-align: top;\n",
       "    }\n",
       "\n",
       "    .dataframe thead th {\n",
       "        text-align: right;\n",
       "    }\n",
       "</style>\n",
       "<table border=\"1\" class=\"dataframe\">\n",
       "  <thead>\n",
       "    <tr style=\"text-align: right;\">\n",
       "      <th>v_67</th>\n",
       "      <th>0</th>\n",
       "      <th>1</th>\n",
       "      <th>2</th>\n",
       "    </tr>\n",
       "  </thead>\n",
       "  <tbody>\n",
       "    <tr>\n",
       "      <th>v_66_1</th>\n",
       "      <td>NaN</td>\n",
       "      <td>3.511628</td>\n",
       "      <td>3.750000</td>\n",
       "    </tr>\n",
       "    <tr>\n",
       "      <th>v_66_2</th>\n",
       "      <td>NaN</td>\n",
       "      <td>2.790698</td>\n",
       "      <td>NaN</td>\n",
       "    </tr>\n",
       "    <tr>\n",
       "      <th>v_66_3</th>\n",
       "      <td>NaN</td>\n",
       "      <td>3.333333</td>\n",
       "      <td>5.000000</td>\n",
       "    </tr>\n",
       "    <tr>\n",
       "      <th>v_66_4</th>\n",
       "      <td>NaN</td>\n",
       "      <td>3.413043</td>\n",
       "      <td>3.125000</td>\n",
       "    </tr>\n",
       "    <tr>\n",
       "      <th>v_66_5</th>\n",
       "      <td>NaN</td>\n",
       "      <td>3.157895</td>\n",
       "      <td>3.875000</td>\n",
       "    </tr>\n",
       "    <tr>\n",
       "      <th>...</th>\n",
       "      <td>...</td>\n",
       "      <td>...</td>\n",
       "      <td>...</td>\n",
       "    </tr>\n",
       "    <tr>\n",
       "      <th>v_66_973</th>\n",
       "      <td>NaN</td>\n",
       "      <td>2.042553</td>\n",
       "      <td>1.500000</td>\n",
       "    </tr>\n",
       "    <tr>\n",
       "      <th>v_66_974</th>\n",
       "      <td>NaN</td>\n",
       "      <td>2.881356</td>\n",
       "      <td>3.500000</td>\n",
       "    </tr>\n",
       "    <tr>\n",
       "      <th>v_66_975</th>\n",
       "      <td>NaN</td>\n",
       "      <td>2.200000</td>\n",
       "      <td>1.428571</td>\n",
       "    </tr>\n",
       "    <tr>\n",
       "      <th>v_66_976</th>\n",
       "      <td>NaN</td>\n",
       "      <td>3.250000</td>\n",
       "      <td>4.200000</td>\n",
       "    </tr>\n",
       "    <tr>\n",
       "      <th>v_66_977</th>\n",
       "      <td>NaN</td>\n",
       "      <td>3.477273</td>\n",
       "      <td>3.200000</td>\n",
       "    </tr>\n",
       "  </tbody>\n",
       "</table>\n",
       "<p>977 rows × 3 columns</p>\n",
       "</div>"
      ],
      "text/plain": [
       "v_67       0         1         2\n",
       "v_66_1   NaN  3.511628  3.750000\n",
       "v_66_2   NaN  2.790698       NaN\n",
       "v_66_3   NaN  3.333333  5.000000\n",
       "v_66_4   NaN  3.413043  3.125000\n",
       "v_66_5   NaN  3.157895  3.875000\n",
       "...       ..       ...       ...\n",
       "v_66_973 NaN  2.042553  1.500000\n",
       "v_66_974 NaN  2.881356  3.500000\n",
       "v_66_975 NaN  2.200000  1.428571\n",
       "v_66_976 NaN  3.250000  4.200000\n",
       "v_66_977 NaN  3.477273  3.200000\n",
       "\n",
       "[977 rows x 3 columns]"
      ]
     },
     "execution_count": 141,
     "metadata": {},
     "output_type": "execute_result"
    }
   ],
   "source": [
    "ratings_germany"
   ]
  },
  {
   "cell_type": "code",
   "execution_count": null,
   "id": "db3838a0-0c9b-4d0b-9110-2fdfd4988b5c",
   "metadata": {},
   "outputs": [],
   "source": []
  },
  {
   "cell_type": "code",
   "execution_count": 118,
   "id": "9a24646f-b9b9-420e-81f0-aeb6b9499e9a",
   "metadata": {},
   "outputs": [
    {
     "data": {
      "text/html": [
       "<div>\n",
       "<style scoped>\n",
       "    .dataframe tbody tr th:only-of-type {\n",
       "        vertical-align: middle;\n",
       "    }\n",
       "\n",
       "    .dataframe tbody tr th {\n",
       "        vertical-align: top;\n",
       "    }\n",
       "\n",
       "    .dataframe thead th {\n",
       "        text-align: right;\n",
       "    }\n",
       "</style>\n",
       "<table border=\"1\" class=\"dataframe\">\n",
       "  <thead>\n",
       "    <tr style=\"text-align: right;\">\n",
       "      <th></th>\n",
       "      <th>List-ID</th>\n",
       "      <th>image_score</th>\n",
       "      <th>n_ratings</th>\n",
       "      <th>Strassenname</th>\n",
       "    </tr>\n",
       "  </thead>\n",
       "  <tbody>\n",
       "    <tr>\n",
       "      <th>v_66_1</th>\n",
       "      <td>1</td>\n",
       "      <td>3.531915</td>\n",
       "      <td>47</td>\n",
       "      <td>NaN</td>\n",
       "    </tr>\n",
       "    <tr>\n",
       "      <th>v_66_2</th>\n",
       "      <td>2</td>\n",
       "      <td>2.790698</td>\n",
       "      <td>43</td>\n",
       "      <td>NaN</td>\n",
       "    </tr>\n",
       "    <tr>\n",
       "      <th>v_66_3</th>\n",
       "      <td>3</td>\n",
       "      <td>3.378378</td>\n",
       "      <td>37</td>\n",
       "      <td>NaN</td>\n",
       "    </tr>\n",
       "    <tr>\n",
       "      <th>v_66_4</th>\n",
       "      <td>4</td>\n",
       "      <td>3.370370</td>\n",
       "      <td>54</td>\n",
       "      <td>NaN</td>\n",
       "    </tr>\n",
       "    <tr>\n",
       "      <th>v_66_5</th>\n",
       "      <td>5</td>\n",
       "      <td>3.282609</td>\n",
       "      <td>46</td>\n",
       "      <td>NaN</td>\n",
       "    </tr>\n",
       "  </tbody>\n",
       "</table>\n",
       "</div>"
      ],
      "text/plain": [
       "        List-ID  image_score  n_ratings Strassenname\n",
       "v_66_1        1     3.531915         47          NaN\n",
       "v_66_2        2     2.790698         43          NaN\n",
       "v_66_3        3     3.378378         37          NaN\n",
       "v_66_4        4     3.370370         54          NaN\n",
       "v_66_5        5     3.282609         46          NaN"
      ]
     },
     "execution_count": 118,
     "metadata": {},
     "output_type": "execute_result"
    }
   ],
   "source": [
    "ratings.head()"
   ]
  },
  {
   "cell_type": "code",
   "execution_count": 179,
   "id": "56d19fa7-0824-4525-ad78-01e803e82f99",
   "metadata": {},
   "outputs": [],
   "source": [
    "ratings = pd.merge(ratings, efs, on ='List-ID')"
   ]
  },
  {
   "cell_type": "code",
   "execution_count": 180,
   "id": "c5dff3a1-166b-4ce0-9cc4-7943114c7208",
   "metadata": {},
   "outputs": [
    {
     "name": "stderr",
     "output_type": "stream",
     "text": [
      "C:\\Users\\m-bau\\AppData\\Local\\Temp\\ipykernel_18248\\3081496685.py:1: FutureWarning: The default value of regex will change from True to False in a future version.\n",
      "  ratings['Strassenname'] = ratings['Name'].str.replace('.jpeg', '')\n"
     ]
    }
   ],
   "source": [
    "ratings['Strassenname'] = ratings['Name'].str.replace('.jpeg', '')"
   ]
  },
  {
   "cell_type": "code",
   "execution_count": 181,
   "id": "e3ac5503-5412-44ae-b372-2baea0424995",
   "metadata": {},
   "outputs": [
    {
     "data": {
      "text/html": [
       "<div>\n",
       "<style scoped>\n",
       "    .dataframe tbody tr th:only-of-type {\n",
       "        vertical-align: middle;\n",
       "    }\n",
       "\n",
       "    .dataframe tbody tr th {\n",
       "        vertical-align: top;\n",
       "    }\n",
       "\n",
       "    .dataframe thead th {\n",
       "        text-align: right;\n",
       "    }\n",
       "</style>\n",
       "<table border=\"1\" class=\"dataframe\">\n",
       "  <thead>\n",
       "    <tr style=\"text-align: right;\">\n",
       "      <th></th>\n",
       "      <th>List-ID</th>\n",
       "      <th>image_score</th>\n",
       "      <th>n_ratings</th>\n",
       "      <th>Strassenname</th>\n",
       "      <th>Name</th>\n",
       "    </tr>\n",
       "  </thead>\n",
       "  <tbody>\n",
       "    <tr>\n",
       "      <th>0</th>\n",
       "      <td>1</td>\n",
       "      <td>3.531915</td>\n",
       "      <td>47</td>\n",
       "      <td>Germaniaplatz_60385</td>\n",
       "      <td>Germaniaplatz_60385.jpeg</td>\n",
       "    </tr>\n",
       "    <tr>\n",
       "      <th>1</th>\n",
       "      <td>2</td>\n",
       "      <td>2.790698</td>\n",
       "      <td>43</td>\n",
       "      <td>Usinger_Strasse_60389</td>\n",
       "      <td>Usinger_Strasse_60389.jpeg</td>\n",
       "    </tr>\n",
       "    <tr>\n",
       "      <th>2</th>\n",
       "      <td>3</td>\n",
       "      <td>3.378378</td>\n",
       "      <td>37</td>\n",
       "      <td>Langenselbolder_Strasse_60386</td>\n",
       "      <td>Langenselbolder_Strasse_60386.jpeg</td>\n",
       "    </tr>\n",
       "    <tr>\n",
       "      <th>3</th>\n",
       "      <td>4</td>\n",
       "      <td>3.370370</td>\n",
       "      <td>54</td>\n",
       "      <td>Vogelstrasse_60528</td>\n",
       "      <td>Vogelstrasse_60528.jpeg</td>\n",
       "    </tr>\n",
       "    <tr>\n",
       "      <th>4</th>\n",
       "      <td>5</td>\n",
       "      <td>3.282609</td>\n",
       "      <td>46</td>\n",
       "      <td>Bleichstrasse_60313</td>\n",
       "      <td>Bleichstrasse_60313.jpeg</td>\n",
       "    </tr>\n",
       "  </tbody>\n",
       "</table>\n",
       "</div>"
      ],
      "text/plain": [
       "   List-ID  image_score  n_ratings                   Strassenname  \\\n",
       "0        1     3.531915         47            Germaniaplatz_60385   \n",
       "1        2     2.790698         43          Usinger_Strasse_60389   \n",
       "2        3     3.378378         37  Langenselbolder_Strasse_60386   \n",
       "3        4     3.370370         54             Vogelstrasse_60528   \n",
       "4        5     3.282609         46            Bleichstrasse_60313   \n",
       "\n",
       "                                 Name  \n",
       "0            Germaniaplatz_60385.jpeg  \n",
       "1          Usinger_Strasse_60389.jpeg  \n",
       "2  Langenselbolder_Strasse_60386.jpeg  \n",
       "3             Vogelstrasse_60528.jpeg  \n",
       "4            Bleichstrasse_60313.jpeg  "
      ]
     },
     "execution_count": 181,
     "metadata": {},
     "output_type": "execute_result"
    }
   ],
   "source": [
    "ratings.head()"
   ]
  },
  {
   "cell_type": "code",
   "execution_count": 182,
   "id": "fba2473e-998f-44ac-98df-8b2a9bf85b49",
   "metadata": {},
   "outputs": [],
   "source": [
    "ratings.to_csv(path + \"ratings.csv\", index= False)"
   ]
  },
  {
   "cell_type": "code",
   "execution_count": 124,
   "id": "8e33fbd0-3f5c-4167-953e-8cd1b80dd094",
   "metadata": {},
   "outputs": [
    {
     "data": {
      "text/plain": [
       "(977, 6)"
      ]
     },
     "execution_count": 124,
     "metadata": {},
     "output_type": "execute_result"
    }
   ],
   "source": [
    "ratings.shape\n"
   ]
  },
  {
   "cell_type": "code",
   "execution_count": 127,
   "id": "c3494def-eebc-424d-81cf-c6ada840ad15",
   "metadata": {},
   "outputs": [
    {
     "data": {
      "text/plain": [
       "4.173913043478261"
      ]
     },
     "execution_count": 127,
     "metadata": {},
     "output_type": "execute_result"
    }
   ],
   "source": [
    "ratings['image_score'].max()"
   ]
  },
  {
   "cell_type": "code",
   "execution_count": 128,
   "id": "14be2033-7001-4dbf-a9ca-046fe1ba25e5",
   "metadata": {},
   "outputs": [
    {
     "data": {
      "text/plain": [
       "1.5087719298245614"
      ]
     },
     "execution_count": 128,
     "metadata": {},
     "output_type": "execute_result"
    }
   ],
   "source": [
    "ratings['image_score'].min()"
   ]
  }
 ],
 "metadata": {
  "kernelspec": {
   "display_name": "Python 3 (ipykernel)",
   "language": "python",
   "name": "python3"
  },
  "language_info": {
   "codemirror_mode": {
    "name": "ipython",
    "version": 3
   },
   "file_extension": ".py",
   "mimetype": "text/x-python",
   "name": "python",
   "nbconvert_exporter": "python",
   "pygments_lexer": "ipython3",
   "version": "3.9.12"
  }
 },
 "nbformat": 4,
 "nbformat_minor": 5
}
